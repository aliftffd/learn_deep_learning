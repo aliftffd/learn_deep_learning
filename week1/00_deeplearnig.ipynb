{
 "cells": [
  {
   "cell_type": "code",
   "execution_count": 3,
   "metadata": {},
   "outputs": [
    {
     "name": "stdout",
     "output_type": "stream",
     "text": [
      "2.6.0+cu124\n"
     ]
    }
   ],
   "source": [
    "import torch \n",
    "import pandas as pd \n",
    "import numpy as np \n",
    "import matplotlib.pyplot as plt \n",
    "\n",
    "device = \"cuda\" if torch.cuda.is_available() else \"cpu\"\n",
    "print(torch.__version__)"
   ]
  },
  {
   "cell_type": "markdown",
   "metadata": {},
   "source": [
    "## Introduction to Tensor \n",
    "Creating tensor "
   ]
  },
  {
   "cell_type": "code",
   "execution_count": 5,
   "metadata": {},
   "outputs": [
    {
     "data": {
      "text/plain": [
       "tensor(8)"
      ]
     },
     "execution_count": 5,
     "metadata": {},
     "output_type": "execute_result"
    }
   ],
   "source": [
    "#scalar \n",
    "scalar = torch.tensor(8)\n",
    "scalar "
   ]
  },
  {
   "cell_type": "code",
   "execution_count": 6,
   "metadata": {},
   "outputs": [
    {
     "data": {
      "text/plain": [
       "0"
      ]
     },
     "execution_count": 6,
     "metadata": {},
     "output_type": "execute_result"
    }
   ],
   "source": [
    "scalar.ndim "
   ]
  },
  {
   "cell_type": "code",
   "execution_count": 12,
   "metadata": {},
   "outputs": [
    {
     "name": "stdout",
     "output_type": "stream",
     "text": [
      "tensor([[9, 9],\n",
      "        [9, 3]])\n",
      "2\n",
      "tensor([9, 3])\n",
      "torch.Size([2, 2])\n"
     ]
    }
   ],
   "source": [
    "#Get tensor back as python int \n",
    "scalar.item()\n",
    "MATRIX = torch.tensor([[9,9],\n",
    "                       [9,3]])\n",
    "\n",
    "print(MATRIX)\n",
    "print(MATRIX.ndim)\n",
    "print(MATRIX[1])\n",
    "print(MATRIX.shape)"
   ]
  },
  {
   "cell_type": "code",
   "execution_count": 20,
   "metadata": {},
   "outputs": [
    {
     "name": "stdout",
     "output_type": "stream",
     "text": [
      "tensor([[[9, 9, 4],\n",
      "         [3, 3, 4],\n",
      "         [5, 6, 7]]])\n",
      "3\n"
     ]
    }
   ],
   "source": [
    "# Tensor \n",
    "TENSOR = torch.tensor([[[9,9,4],\n",
    "                       [3,3,4],\n",
    "                       [5,6,7]]])\n",
    "\n",
    "print(TENSOR)\n",
    "print(TENSOR.ndim)\n"
   ]
  },
  {
   "cell_type": "code",
   "execution_count": 21,
   "metadata": {},
   "outputs": [
    {
     "data": {
      "text/plain": [
       "torch.Size([1, 3, 3])"
      ]
     },
     "execution_count": 21,
     "metadata": {},
     "output_type": "execute_result"
    }
   ],
   "source": [
    "TENSOR.shape"
   ]
  },
  {
   "cell_type": "markdown",
   "metadata": {},
   "source": [
    "### RANDOM TENSOR "
   ]
  },
  {
   "cell_type": "markdown",
   "metadata": {},
   "source": [
    "### Random Tensors \n",
    "\n",
    "Why Random Tensors \n",
    "\n",
    "Random tensors are important because the way many neural networks learn is thath they start with tensors full of random numbers and the adjust those random numbers to better represent the data \n",
    "\n",
    "\"start with random numbers -> look at data -> update random numbers -> look at data -> update\""
   ]
  },
  {
   "cell_type": "code",
   "execution_count": 31,
   "metadata": {},
   "outputs": [
    {
     "data": {
      "text/plain": [
       "tensor([[0.1751, 0.8122, 0.9455, 0.0991],\n",
       "        [0.1987, 0.3586, 0.6596, 0.7811],\n",
       "        [0.4290, 0.7464, 0.8066, 0.6304]])"
      ]
     },
     "execution_count": 31,
     "metadata": {},
     "output_type": "execute_result"
    }
   ],
   "source": [
    "# Create a random tensor of size (3,4)\n",
    "\n",
    "random_tensor = torch.rand(3,4)\n",
    "random_tensor\n"
   ]
  },
  {
   "cell_type": "code",
   "execution_count": 5,
   "metadata": {},
   "outputs": [
    {
     "data": {
      "text/plain": [
       "(torch.Size([3, 224, 224]), 3)"
      ]
     },
     "execution_count": 5,
     "metadata": {},
     "output_type": "execute_result"
    }
   ],
   "source": [
    "#creater a random tensor with similar shape to image tensor \n",
    "\n",
    "random_img_tensor_size = torch.rand(size=(3,224,224))\n",
    "random_img_tensor_size.shape, random_img_tensor_size.ndim "
   ]
  },
  {
   "cell_type": "markdown",
   "metadata": {},
   "source": [
    "### Creating a range of tensors and tensors_like"
   ]
  },
  {
   "cell_type": "code",
   "execution_count": 12,
   "metadata": {},
   "outputs": [
    {
     "data": {
      "text/plain": [
       "tensor([ 1,  2,  3,  4,  5,  6,  7,  8,  9, 10])"
      ]
     },
     "execution_count": 12,
     "metadata": {},
     "output_type": "execute_result"
    }
   ],
   "source": [
    "one_to_ten = torch.arange(start = 1, end = 11, step = 1) # Use torch.range()\n",
    "one_to_ten"
   ]
  },
  {
   "cell_type": "code",
   "execution_count": 14,
   "metadata": {},
   "outputs": [
    {
     "data": {
      "text/plain": [
       "tensor([0, 0, 0, 0, 0, 0, 0, 0, 0, 0])"
      ]
     },
     "execution_count": 14,
     "metadata": {},
     "output_type": "execute_result"
    }
   ],
   "source": [
    "# Creating tensors like \n",
    "\n",
    "ten_zero = torch.zeros_like(one_to_ten)\n",
    "ten_zero"
   ]
  },
  {
   "cell_type": "markdown",
   "metadata": {},
   "source": [
    "### Dealing Tensor With Data Type \n",
    "\n",
    "**Note** Tensor datatype is one of the 3 big issues (error) with PyTorch & deep Learning: \n",
    "1. Tensors not right datatype \n",
    "2. Tensors nor right device \n",
    "3. tensors not on the right device "
   ]
  },
  {
   "cell_type": "code",
   "execution_count": 35,
   "metadata": {},
   "outputs": [
    {
     "data": {
      "text/plain": [
       "tensor([3., 4., 5.], device='cuda:0', requires_grad=True)"
      ]
     },
     "execution_count": 35,
     "metadata": {},
     "output_type": "execute_result"
    }
   ],
   "source": [
    "# Float 32 tensor \n",
    "\n",
    "float_32_tensor = torch.tensor([3.0, 4.0, 5.0], \n",
    "                               dtype=torch.float32, # mengatur data type apa yang di gunakan \n",
    "                               device=device, # device apa yang di gunakan\n",
    "                               requires_grad=True) # wheter or not to track gradients with this tensors operation \n",
    "\n",
    "float_32_tensor"
   ]
  },
  {
   "cell_type": "code",
   "execution_count": 31,
   "metadata": {},
   "outputs": [
    {
     "data": {
      "text/plain": [
       "torch.float32"
      ]
     },
     "execution_count": 31,
     "metadata": {},
     "output_type": "execute_result"
    }
   ],
   "source": [
    "float_32_tensor.dtype"
   ]
  },
  {
   "cell_type": "code",
   "execution_count": 32,
   "metadata": {},
   "outputs": [
    {
     "data": {
      "text/plain": [
       "tensor([3., 4., 5.], device='cuda:0', dtype=torch.float16,\n",
       "       grad_fn=<ToCopyBackward0>)"
      ]
     },
     "execution_count": 32,
     "metadata": {},
     "output_type": "execute_result"
    }
   ],
   "source": [
    "float_16_tensor = float_32_tensor.type(torch.float16)\n",
    "float_16_tensor"
   ]
  },
  {
   "cell_type": "code",
   "execution_count": 33,
   "metadata": {},
   "outputs": [
    {
     "data": {
      "text/plain": [
       "tensor([ 9., 16., 25.], device='cuda:0', grad_fn=<MulBackward0>)"
      ]
     },
     "execution_count": 33,
     "metadata": {},
     "output_type": "execute_result"
    }
   ],
   "source": [
    "float_16_tensor * float_32_tensor "
   ]
  },
  {
   "cell_type": "code",
   "execution_count": 38,
   "metadata": {},
   "outputs": [
    {
     "data": {
      "text/plain": [
       "tensor([3, 4, 5], device='cuda:0', dtype=torch.int32)"
      ]
     },
     "execution_count": 38,
     "metadata": {},
     "output_type": "execute_result"
    }
   ],
   "source": [
    "int_32_tensor = torch.tensor([3, 4, 5],\n",
    "                             dtype =torch.int32,device=device) \n",
    "int_32_tensor"
   ]
  },
  {
   "cell_type": "markdown",
   "metadata": {},
   "source": [
    "### *Getting Information* (tensor Attributes)\n",
    "1. Tensors not right datatype - to do get dataype from a tensor, can use **'tensor.dtype'*** \n",
    "2. Tensors nor right device  - to get shape from a tensor, can use **'tensor.shape'**\n",
    "3. tensors not on the right device - to get device from a tensor, can use **'tensor.device'** "
   ]
  },
  {
   "cell_type": "code",
   "execution_count": 52,
   "metadata": {},
   "outputs": [
    {
     "data": {
      "text/plain": [
       "tensor([[[0.5361, 0.0464, 0.9470,  ..., 0.1231, 0.8638, 0.5782],\n",
       "         [0.3793, 0.2940, 0.3980,  ..., 0.5652, 0.0720, 0.2427],\n",
       "         [0.8654, 0.4176, 0.1876,  ..., 0.5474, 0.0480, 0.7785],\n",
       "         ...,\n",
       "         [0.2475, 0.4016, 0.1856,  ..., 0.8480, 0.1209, 0.3766],\n",
       "         [0.7865, 0.3382, 0.5211,  ..., 0.3692, 0.4393, 0.8419],\n",
       "         [0.3878, 0.6613, 0.6602,  ..., 0.0698, 0.5550, 0.6383]],\n",
       "\n",
       "        [[0.8348, 0.1303, 0.9969,  ..., 0.1451, 0.6468, 0.8021],\n",
       "         [0.5347, 0.3743, 0.2893,  ..., 0.4912, 0.2547, 0.0291],\n",
       "         [0.5604, 0.6179, 0.1155,  ..., 0.4981, 0.9779, 0.9034],\n",
       "         ...,\n",
       "         [0.8212, 0.5600, 0.6503,  ..., 0.5275, 0.5009, 0.7228],\n",
       "         [0.4104, 0.6877, 0.5213,  ..., 0.0666, 0.4127, 0.9472],\n",
       "         [0.5620, 0.8380, 0.1972,  ..., 0.3045, 0.8264, 0.4344]],\n",
       "\n",
       "        [[0.7890, 0.8154, 0.8668,  ..., 0.4380, 0.3910, 0.2235],\n",
       "         [0.3206, 0.3504, 0.5642,  ..., 0.3416, 0.1518, 0.1214],\n",
       "         [0.4006, 0.6502, 0.5406,  ..., 0.4596, 0.8178, 0.5160],\n",
       "         ...,\n",
       "         [0.9981, 0.5060, 0.7522,  ..., 0.9384, 0.8252, 0.8714],\n",
       "         [0.9760, 0.5304, 0.5667,  ..., 0.0810, 0.0937, 0.4897],\n",
       "         [0.4635, 0.9882, 0.5855,  ..., 0.9608, 0.5470, 0.8978]]],\n",
       "       device='cuda:0')"
      ]
     },
     "execution_count": 52,
     "metadata": {},
     "output_type": "execute_result"
    }
   ],
   "source": [
    "some_tensor = torch.rand([3,24,16]).to(device)\n",
    "some_tensor"
   ]
  },
  {
   "cell_type": "code",
   "execution_count": 53,
   "metadata": {},
   "outputs": [
    {
     "name": "stdout",
     "output_type": "stream",
     "text": [
      "tensor([[[0.5361, 0.0464, 0.9470,  ..., 0.1231, 0.8638, 0.5782],\n",
      "         [0.3793, 0.2940, 0.3980,  ..., 0.5652, 0.0720, 0.2427],\n",
      "         [0.8654, 0.4176, 0.1876,  ..., 0.5474, 0.0480, 0.7785],\n",
      "         ...,\n",
      "         [0.2475, 0.4016, 0.1856,  ..., 0.8480, 0.1209, 0.3766],\n",
      "         [0.7865, 0.3382, 0.5211,  ..., 0.3692, 0.4393, 0.8419],\n",
      "         [0.3878, 0.6613, 0.6602,  ..., 0.0698, 0.5550, 0.6383]],\n",
      "\n",
      "        [[0.8348, 0.1303, 0.9969,  ..., 0.1451, 0.6468, 0.8021],\n",
      "         [0.5347, 0.3743, 0.2893,  ..., 0.4912, 0.2547, 0.0291],\n",
      "         [0.5604, 0.6179, 0.1155,  ..., 0.4981, 0.9779, 0.9034],\n",
      "         ...,\n",
      "         [0.8212, 0.5600, 0.6503,  ..., 0.5275, 0.5009, 0.7228],\n",
      "         [0.4104, 0.6877, 0.5213,  ..., 0.0666, 0.4127, 0.9472],\n",
      "         [0.5620, 0.8380, 0.1972,  ..., 0.3045, 0.8264, 0.4344]],\n",
      "\n",
      "        [[0.7890, 0.8154, 0.8668,  ..., 0.4380, 0.3910, 0.2235],\n",
      "         [0.3206, 0.3504, 0.5642,  ..., 0.3416, 0.1518, 0.1214],\n",
      "         [0.4006, 0.6502, 0.5406,  ..., 0.4596, 0.8178, 0.5160],\n",
      "         ...,\n",
      "         [0.9981, 0.5060, 0.7522,  ..., 0.9384, 0.8252, 0.8714],\n",
      "         [0.9760, 0.5304, 0.5667,  ..., 0.0810, 0.0937, 0.4897],\n",
      "         [0.4635, 0.9882, 0.5855,  ..., 0.9608, 0.5470, 0.8978]]],\n",
      "       device='cuda:0')\n",
      "Tipe data dari tensor : torch.float32\n",
      "Shape dari tensor : torch.Size([3, 24, 16])\n",
      "device dari tensor : cuda:0\n"
     ]
    }
   ],
   "source": [
    "print(some_tensor)\n",
    "print(f\"Tipe data dari tensor : {some_tensor.dtype}\")\n",
    "print(f\"Shape dari tensor : {some_tensor.shape}\")\n",
    "print(f\"device dari tensor : {some_tensor.device}\")"
   ]
  },
  {
   "cell_type": "markdown",
   "metadata": {},
   "source": [
    "### Manipulating Tensors (tensor Operations) \n",
    "\n",
    "tensor operations incule : \n",
    "* addition \n",
    "* substraction \n",
    "* multiplication (element-wise)\n",
    "* division \n",
    "* matrix multiplication \n"
   ]
  },
  {
   "cell_type": "code",
   "execution_count": 82,
   "metadata": {},
   "outputs": [
    {
     "data": {
      "text/plain": [
       "tensor([11, 12, 13])"
      ]
     },
     "execution_count": 82,
     "metadata": {},
     "output_type": "execute_result"
    }
   ],
   "source": [
    "tensor = torch.tensor([1,2,3]) # addition \n",
    "tensor + 10 "
   ]
  },
  {
   "cell_type": "code",
   "execution_count": 74,
   "metadata": {},
   "outputs": [
    {
     "data": {
      "text/plain": [
       "tensor([0.1000, 0.2000, 0.3000])"
      ]
     },
     "execution_count": 74,
     "metadata": {},
     "output_type": "execute_result"
    }
   ],
   "source": [
    "tensor = tensor / 10 # multiplication\n",
    "tensor"
   ]
  },
  {
   "cell_type": "code",
   "execution_count": 80,
   "metadata": {},
   "outputs": [
    {
     "data": {
      "text/plain": [
       "tensor([0.4433, 0.4522, 0.5942])"
      ]
     },
     "execution_count": 80,
     "metadata": {},
     "output_type": "execute_result"
    }
   ],
   "source": [
    "# Try out Pytoch built-in functions \n",
    "\n",
    "torch.add(tensor, torch.rand(3))"
   ]
  },
  {
   "cell_type": "markdown",
   "metadata": {},
   "source": [
    "### Matrix multipication \n",
    "Two main ways of performing multiplication in neural networks and deep learning:\n",
    "1. Element-wise multiplication\n",
    "2. Matrix mutliplication (dot product)\n",
    "\n",
    "There are two main rules that performing matrix mutliplication needs to satisfy:\n",
    "1. The **inner dimentions** must match:\n",
    "* '(3,2) @ (3,2)' won't work \n",
    "* '(2,3) @ (3,2)' will work \n",
    "* '(3,2) @ (2,3)' will work \n",
    "2. the resulting matrix has the sape of the **outer dimensions** \n",
    "* '(2,3) @ (3,2)' -> '(2,2)' \n",
    "* '(3,2) @ (2,3)' -> '(3,3)'"
   ]
  },
  {
   "cell_type": "code",
   "execution_count": 103,
   "metadata": {},
   "outputs": [
    {
     "data": {
      "text/plain": [
       "torch.Size([10, 10])"
      ]
     },
     "execution_count": 103,
     "metadata": {},
     "output_type": "execute_result"
    }
   ],
   "source": [
    "torch.matmul(torch.rand(10,10),torch.rand(10,10)).shape"
   ]
  },
  {
   "cell_type": "code",
   "execution_count": 89,
   "metadata": {},
   "outputs": [
    {
     "name": "stdout",
     "output_type": "stream",
     "text": [
      "tensor([1, 2, 3]) * tensor([1, 2, 3])\n",
      "Equals : tensor([1, 4, 9])\n"
     ]
    }
   ],
   "source": [
    "# Element wise multiplication \n",
    "print(tensor, \"*\" , tensor ) \n",
    "print(f\"Equals : {tensor.mul(tensor)}\")"
   ]
  },
  {
   "cell_type": "code",
   "execution_count": 92,
   "metadata": {},
   "outputs": [
    {
     "data": {
      "text/plain": [
       "tensor(14)"
      ]
     },
     "execution_count": 92,
     "metadata": {},
     "output_type": "execute_result"
    }
   ],
   "source": [
    "torch.matmul(tensor,tensor) # -> 1*1 + 2*2 + 3*3 = 14"
   ]
  },
  {
   "cell_type": "code",
   "execution_count": 93,
   "metadata": {},
   "outputs": [
    {
     "name": "stdout",
     "output_type": "stream",
     "text": [
      "tensor(14)\n",
      "CPU times: total: 0 ns\n",
      "Wall time: 6.56 ms\n"
     ]
    }
   ],
   "source": [
    "%%time \n",
    "\n",
    "value = 0 \n",
    "for i in range(len(tensor)):\n",
    "    value += tensor[i] * tensor[i]\n",
    "print(value)"
   ]
  },
  {
   "cell_type": "code",
   "execution_count": 95,
   "metadata": {},
   "outputs": [
    {
     "name": "stdout",
     "output_type": "stream",
     "text": [
      "CPU times: total: 0 ns\n",
      "Wall time: 544 μs\n"
     ]
    },
    {
     "data": {
      "text/plain": [
       "tensor(14)"
      ]
     },
     "execution_count": 95,
     "metadata": {},
     "output_type": "execute_result"
    }
   ],
   "source": [
    "%%time \n",
    "torch.matmul(tensor, tensor) "
   ]
  },
  {
   "cell_type": "markdown",
   "metadata": {},
   "source": [
    "One of the most common errors in deep learning: shape errors"
   ]
  },
  {
   "cell_type": "code",
   "execution_count": null,
   "metadata": {},
   "outputs": [
    {
     "ename": "RuntimeError",
     "evalue": "mat1 and mat2 shapes cannot be multiplied (3x4 and 3x4)",
     "output_type": "error",
     "traceback": [
      "\u001b[1;31m---------------------------------------------------------------------------\u001b[0m",
      "\u001b[1;31mRuntimeError\u001b[0m                              Traceback (most recent call last)",
      "Cell \u001b[1;32mIn[130], line 5\u001b[0m\n\u001b[0;32m      2\u001b[0m tensor_a \u001b[38;5;241m=\u001b[39m torch\u001b[38;5;241m.\u001b[39mrand(\u001b[38;5;241m3\u001b[39m,\u001b[38;5;241m4\u001b[39m)\n\u001b[0;32m      3\u001b[0m tensor_b \u001b[38;5;241m=\u001b[39m torch\u001b[38;5;241m.\u001b[39mrand(\u001b[38;5;241m3\u001b[39m,\u001b[38;5;241m4\u001b[39m) \n\u001b[1;32m----> 5\u001b[0m \u001b[43mtorch\u001b[49m\u001b[38;5;241;43m.\u001b[39;49m\u001b[43mmm\u001b[49m\u001b[43m(\u001b[49m\u001b[43mtensor_a\u001b[49m\u001b[43m,\u001b[49m\u001b[43mtensor_b\u001b[49m\u001b[43m)\u001b[49m \n",
      "\u001b[1;31mRuntimeError\u001b[0m: mat1 and mat2 shapes cannot be multiplied (3x4 and 3x4)"
     ]
    }
   ],
   "source": [
    "# shape for matrix multipication \n",
    "tensor_a = torch.rand(3,4)\n",
    "tensor_b = torch.rand(3,4) \n",
    "\n",
    "torch.mm(tensor_a,tensor_b) "
   ]
  },
  {
   "cell_type": "markdown",
   "metadata": {},
   "source": [
    "To fix our tensor shape issues, we can manipulate the shape of one of our tensors using a **transpose**.\n",
    "A **transpose** switches the axes or dimensions of a given tensor."
   ]
  },
  {
   "cell_type": "code",
   "execution_count": 108,
   "metadata": {},
   "outputs": [
    {
     "data": {
      "text/plain": [
       "(tensor([[0.5211, 0.0313, 0.5105, 0.3025],\n",
       "         [0.0271, 0.4713, 0.5969, 0.0111],\n",
       "         [0.2232, 0.1496, 0.5006, 0.3369]]),\n",
       " torch.Size([4, 3]))"
      ]
     },
     "execution_count": 108,
     "metadata": {},
     "output_type": "execute_result"
    }
   ],
   "source": [
    "tensor_a , tensor_a.T.shape"
   ]
  },
  {
   "cell_type": "code",
   "execution_count": null,
   "metadata": {},
   "outputs": [
    {
     "name": "stdout",
     "output_type": "stream",
     "text": [
      " Original shapes: tensor _ A torch.Size([3, 4]), tensor B torch.Size([3, 4])\n",
      "New shape :tensor_a =torch.Size([4, 3]) (same shape as above), tensor_b.T = torch.Size([3, 4])\n",
      "Multiplying: torch.Size([4, 3]) @ torch.Size([3, 4]) inner dimensions must match\n",
      "Output: \n",
      "\n",
      "tensor([[0.4146, 0.1198, 0.1373, 0.2871],\n",
      "        [0.5800, 0.4326, 0.2010, 0.4738],\n",
      "        [1.1664, 0.6676, 0.4254, 0.9275],\n",
      "        [0.3894, 0.1256, 0.1796, 0.3264]])\n",
      "Output shape: torch.Size([4, 4])\n"
     ]
    }
   ],
   "source": [
    "print(f\" Original shapes: tensor _ A {tensor_a.shape}, tensor B {tensor_b.shape}\")  \n",
    "print(f\"New shape :tensor_a ={tensor_a.T.shape} (same shape as above), tensor_b.T = {tensor_b.shape}\")\n",
    "print(f\"Multiplying: {tensor_a.T.shape} @ {tensor_b.shape} inner dimensions must match\")\n",
    "print (\"Output: \\n\" )\n",
    "output = torch.matmul(tensor_a.T,tensor_b)\n",
    "print (output)\n",
    "print(f\"Output shape: {output.shape}\")"
   ]
  },
  {
   "cell_type": "markdown",
   "metadata": {},
   "source": [
    "### Finding the min, max, mean, sum, etc (tensor aggregation )"
   ]
  },
  {
   "cell_type": "code",
   "execution_count": null,
   "metadata": {},
   "outputs": [
    {
     "data": {
      "text/plain": [
       "torch.int64"
      ]
     },
     "execution_count": 122,
     "metadata": {},
     "output_type": "execute_result"
    }
   ],
   "source": [
    "# create a tensor \n",
    "x = torch.arange(0,100,10)\n",
    "x.dtype "
   ]
  },
  {
   "cell_type": "code",
   "execution_count": 131,
   "metadata": {},
   "outputs": [
    {
     "data": {
      "text/plain": [
       "(tensor(0), tensor(90))"
      ]
     },
     "execution_count": 131,
     "metadata": {},
     "output_type": "execute_result"
    }
   ],
   "source": [
    "# find the min \n",
    "x.min(), x.max()"
   ]
  },
  {
   "cell_type": "code",
   "execution_count": null,
   "metadata": {},
   "outputs": [
    {
     "data": {
      "text/plain": [
       "(tensor(45.), tensor(30.2765))"
      ]
     },
     "execution_count": 126,
     "metadata": {},
     "output_type": "execute_result"
    }
   ],
   "source": [
    "# Find the mean-note: the torch.mean() function requires a tensor of float 32 datatype to work\n",
    "torch.mean(x.type(torch.float32)) , torch.std(x.type(torch.float32))"
   ]
  },
  {
   "cell_type": "code",
   "execution_count": 129,
   "metadata": {},
   "outputs": [
    {
     "data": {
      "text/plain": [
       "(tensor(450), tensor(450))"
      ]
     },
     "execution_count": 129,
     "metadata": {},
     "output_type": "execute_result"
    }
   ],
   "source": [
    "# find the sum \n",
    "x.sum() , torch.sum(x)"
   ]
  },
  {
   "cell_type": "code",
   "execution_count": null,
   "metadata": {},
   "outputs": [],
   "source": []
  }
 ],
 "metadata": {
  "kernelspec": {
   "display_name": "Python 3",
   "language": "python",
   "name": "python3"
  },
  "language_info": {
   "codemirror_mode": {
    "name": "ipython",
    "version": 3
   },
   "file_extension": ".py",
   "mimetype": "text/x-python",
   "name": "python",
   "nbconvert_exporter": "python",
   "pygments_lexer": "ipython3",
   "version": "3.11.11"
  }
 },
 "nbformat": 4,
 "nbformat_minor": 4
}
